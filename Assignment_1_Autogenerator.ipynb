{
 "cells": [
  {
   "cell_type": "code",
   "execution_count": 1,
   "metadata": {},
   "outputs": [],
   "source": [
    "import random\n",
    "import pandas as pd\n",
    "import string"
   ]
  },
  {
   "cell_type": "markdown",
   "metadata": {},
   "source": [
    "Autopassword Generate using python"
   ]
  },
  {
   "cell_type": "code",
   "execution_count": 2,
   "metadata": {},
   "outputs": [],
   "source": [
    "numbers = ['0','1','2','3','4','5','6','7','8','9']\n",
    "small_characters = ['a','b','c','d','e','f','g','h','i','j','k','l','m','n','o','p','q','r','s','t','u','v','w','x','y','z']\n",
    "capital_characters=['A','B','C','D','E','I','F','G','H','I','J','K','L','M','N','O','P','Q','R','S','T','U','V','W','X','Y','Z']\n",
    "symbols = ['@', '#', '$', '%', '=', ':', '?', '.', '/', '|', '~', '>',  '*', '(', ')']"
   ]
  },
  {
   "cell_type": "code",
   "execution_count": 3,
   "metadata": {},
   "outputs": [],
   "source": [
    "fixed_password = numbers+small_characters+capital_characters+symbols"
   ]
  },
  {
   "cell_type": "code",
   "execution_count": 4,
   "metadata": {},
   "outputs": [],
   "source": [
    "random_password = random.choice(numbers)+random.choice(small_characters)+random.choice(capital_characters)+random.choice(symbols)"
   ]
  },
  {
   "cell_type": "code",
   "execution_count": 5,
   "metadata": {},
   "outputs": [],
   "source": [
    "max_length = 12\n",
    "emp_password = []\n",
    "for k in range(5):\n",
    "    password = fixed_password+list(random.choice(random_password))\n",
    "    list_password = list(password)\n",
    "    final_password = ''.join(random.choice(list_password) for j in range(max_length))\n",
    "    emp_password.append(final_password)\n"
   ]
  },
  {
   "cell_type": "code",
   "execution_count": 6,
   "metadata": {},
   "outputs": [
    {
     "data": {
      "text/plain": [
       "['0EJSBACgU#hy',\n",
       " '=4YkIRc>gvHd',\n",
       " '7o?P=A#RfU46',\n",
       " 'Bv1/Xft*GqMN',\n",
       " '6S8cIHB%RUwy']"
      ]
     },
     "execution_count": 6,
     "metadata": {},
     "output_type": "execute_result"
    }
   ],
   "source": [
    "emp_password"
   ]
  },
  {
   "cell_type": "code",
   "execution_count": 7,
   "metadata": {},
   "outputs": [],
   "source": [
    "password = {'password' :emp_password }"
   ]
  },
  {
   "cell_type": "code",
   "execution_count": 8,
   "metadata": {},
   "outputs": [],
   "source": [
    "df1 = pd.DataFrame(password)"
   ]
  },
  {
   "cell_type": "code",
   "execution_count": 9,
   "metadata": {},
   "outputs": [
    {
     "data": {
      "text/html": [
       "<div>\n",
       "<style scoped>\n",
       "    .dataframe tbody tr th:only-of-type {\n",
       "        vertical-align: middle;\n",
       "    }\n",
       "\n",
       "    .dataframe tbody tr th {\n",
       "        vertical-align: top;\n",
       "    }\n",
       "\n",
       "    .dataframe thead th {\n",
       "        text-align: right;\n",
       "    }\n",
       "</style>\n",
       "<table border=\"1\" class=\"dataframe\">\n",
       "  <thead>\n",
       "    <tr style=\"text-align: right;\">\n",
       "      <th></th>\n",
       "      <th>password</th>\n",
       "    </tr>\n",
       "  </thead>\n",
       "  <tbody>\n",
       "    <tr>\n",
       "      <th>0</th>\n",
       "      <td>0EJSBACgU#hy</td>\n",
       "    </tr>\n",
       "    <tr>\n",
       "      <th>1</th>\n",
       "      <td>=4YkIRc&gt;gvHd</td>\n",
       "    </tr>\n",
       "    <tr>\n",
       "      <th>2</th>\n",
       "      <td>7o?P=A#RfU46</td>\n",
       "    </tr>\n",
       "    <tr>\n",
       "      <th>3</th>\n",
       "      <td>Bv1/Xft*GqMN</td>\n",
       "    </tr>\n",
       "    <tr>\n",
       "      <th>4</th>\n",
       "      <td>6S8cIHB%RUwy</td>\n",
       "    </tr>\n",
       "  </tbody>\n",
       "</table>\n",
       "</div>"
      ],
      "text/plain": [
       "       password\n",
       "0  0EJSBACgU#hy\n",
       "1  =4YkIRc>gvHd\n",
       "2  7o?P=A#RfU46\n",
       "3  Bv1/Xft*GqMN\n",
       "4  6S8cIHB%RUwy"
      ]
     },
     "execution_count": 9,
     "metadata": {},
     "output_type": "execute_result"
    }
   ],
   "source": [
    "df1"
   ]
  },
  {
   "cell_type": "code",
   "execution_count": 10,
   "metadata": {},
   "outputs": [
    {
     "data": {
      "text/html": [
       "<div>\n",
       "<style scoped>\n",
       "    .dataframe tbody tr th:only-of-type {\n",
       "        vertical-align: middle;\n",
       "    }\n",
       "\n",
       "    .dataframe tbody tr th {\n",
       "        vertical-align: top;\n",
       "    }\n",
       "\n",
       "    .dataframe thead th {\n",
       "        text-align: right;\n",
       "    }\n",
       "</style>\n",
       "<table border=\"1\" class=\"dataframe\">\n",
       "  <thead>\n",
       "    <tr style=\"text-align: right;\">\n",
       "      <th></th>\n",
       "      <th>password</th>\n",
       "    </tr>\n",
       "  </thead>\n",
       "  <tbody>\n",
       "    <tr>\n",
       "      <th>0</th>\n",
       "      <td>0EJSBACgU#hy</td>\n",
       "    </tr>\n",
       "    <tr>\n",
       "      <th>1</th>\n",
       "      <td>=4YkIRc&gt;gvHd</td>\n",
       "    </tr>\n",
       "    <tr>\n",
       "      <th>2</th>\n",
       "      <td>7o?P=A#RfU46</td>\n",
       "    </tr>\n",
       "    <tr>\n",
       "      <th>3</th>\n",
       "      <td>Bv1/Xft*GqMN</td>\n",
       "    </tr>\n",
       "    <tr>\n",
       "      <th>4</th>\n",
       "      <td>6S8cIHB%RUwy</td>\n",
       "    </tr>\n",
       "  </tbody>\n",
       "</table>\n",
       "</div>"
      ],
      "text/plain": [
       "       password\n",
       "0  0EJSBACgU#hy\n",
       "1  =4YkIRc>gvHd\n",
       "2  7o?P=A#RfU46\n",
       "3  Bv1/Xft*GqMN\n",
       "4  6S8cIHB%RUwy"
      ]
     },
     "execution_count": 10,
     "metadata": {},
     "output_type": "execute_result"
    }
   ],
   "source": [
    "d1 = df1\n",
    "d1"
   ]
  },
  {
   "cell_type": "markdown",
   "metadata": {},
   "source": [
    "Dynamic dataset generate"
   ]
  },
  {
   "cell_type": "code",
   "execution_count": 13,
   "metadata": {},
   "outputs": [
    {
     "name": "stdout",
     "output_type": "stream",
     "text": [
      "Enter name: Mina\n",
      "Enter Age: 34\n",
      "Enter Gender F/M : F\n",
      "Enter Experience: 3\n",
      "Enter salary per month :30000\n",
      "Enter name: Monisha\n",
      "Enter Age: 34\n",
      "Enter Gender F/M : F\n",
      "Enter Experience: 4\n",
      "Enter salary per month :50000\n",
      "Enter name: manish\n",
      "Enter Age: 34\n",
      "Enter Gender F/M : M\n",
      "Enter Experience: 2\n",
      "Enter salary per month :30000\n",
      "Enter name: Mohan\n",
      "Enter Age: 30\n",
      "Enter Gender F/M : M\n",
      "Enter Experience: 3\n",
      "Enter salary per month :40000\n",
      "Enter name: Miraaz\n",
      "Enter Age: 29\n",
      "Enter Gender F/M : M\n",
      "Enter Experience: 3\n",
      "Enter salary per month :40000\n"
     ]
    }
   ],
   "source": [
    "df2 = pd.DataFrame(columns=['Name','Age','Gender','Experience','salary'])\n",
    "\n",
    "\n",
    "for i in range(5):\n",
    "    name = input('Enter name: ')\n",
    "    age = int(input('Enter Age: ')) \n",
    "    gen = input('Enter Gender F/M : ')\n",
    "    exp = float(input('Enter Experience: '))\n",
    "    sal = int(input('Enter salary per month :'))\n",
    "    df2.loc[i,'Name']=name\n",
    "    df2.loc[i,'Age']=age\n",
    "    df2.loc[i,'Gender']=gen\n",
    "    df2.loc[i,'Experience']=exp\n",
    "    df2.loc[i,'salary']=sal"
   ]
  },
  {
   "cell_type": "code",
   "execution_count": 14,
   "metadata": {},
   "outputs": [
    {
     "data": {
      "text/html": [
       "<div>\n",
       "<style scoped>\n",
       "    .dataframe tbody tr th:only-of-type {\n",
       "        vertical-align: middle;\n",
       "    }\n",
       "\n",
       "    .dataframe tbody tr th {\n",
       "        vertical-align: top;\n",
       "    }\n",
       "\n",
       "    .dataframe thead th {\n",
       "        text-align: right;\n",
       "    }\n",
       "</style>\n",
       "<table border=\"1\" class=\"dataframe\">\n",
       "  <thead>\n",
       "    <tr style=\"text-align: right;\">\n",
       "      <th></th>\n",
       "      <th>Name</th>\n",
       "      <th>Age</th>\n",
       "      <th>Gender</th>\n",
       "      <th>Experience</th>\n",
       "      <th>salary</th>\n",
       "    </tr>\n",
       "  </thead>\n",
       "  <tbody>\n",
       "    <tr>\n",
       "      <th>0</th>\n",
       "      <td>Mina</td>\n",
       "      <td>34</td>\n",
       "      <td>F</td>\n",
       "      <td>3</td>\n",
       "      <td>30000</td>\n",
       "    </tr>\n",
       "    <tr>\n",
       "      <th>1</th>\n",
       "      <td>Monisha</td>\n",
       "      <td>34</td>\n",
       "      <td>F</td>\n",
       "      <td>4</td>\n",
       "      <td>50000</td>\n",
       "    </tr>\n",
       "    <tr>\n",
       "      <th>2</th>\n",
       "      <td>manish</td>\n",
       "      <td>34</td>\n",
       "      <td>M</td>\n",
       "      <td>2</td>\n",
       "      <td>30000</td>\n",
       "    </tr>\n",
       "    <tr>\n",
       "      <th>3</th>\n",
       "      <td>Mohan</td>\n",
       "      <td>30</td>\n",
       "      <td>M</td>\n",
       "      <td>3</td>\n",
       "      <td>40000</td>\n",
       "    </tr>\n",
       "    <tr>\n",
       "      <th>4</th>\n",
       "      <td>Miraaz</td>\n",
       "      <td>29</td>\n",
       "      <td>M</td>\n",
       "      <td>3</td>\n",
       "      <td>40000</td>\n",
       "    </tr>\n",
       "  </tbody>\n",
       "</table>\n",
       "</div>"
      ],
      "text/plain": [
       "      Name Age Gender Experience salary\n",
       "0     Mina  34      F          3  30000\n",
       "1  Monisha  34      F          4  50000\n",
       "2   manish  34      M          2  30000\n",
       "3    Mohan  30      M          3  40000\n",
       "4   Miraaz  29      M          3  40000"
      ]
     },
     "execution_count": 14,
     "metadata": {},
     "output_type": "execute_result"
    }
   ],
   "source": [
    "d2 = df2\n",
    "d2\n"
   ]
  },
  {
   "cell_type": "code",
   "execution_count": 30,
   "metadata": {},
   "outputs": [
    {
     "data": {
      "text/html": [
       "<div>\n",
       "<style scoped>\n",
       "    .dataframe tbody tr th:only-of-type {\n",
       "        vertical-align: middle;\n",
       "    }\n",
       "\n",
       "    .dataframe tbody tr th {\n",
       "        vertical-align: top;\n",
       "    }\n",
       "\n",
       "    .dataframe thead th {\n",
       "        text-align: right;\n",
       "    }\n",
       "</style>\n",
       "<table border=\"1\" class=\"dataframe\">\n",
       "  <thead>\n",
       "    <tr style=\"text-align: right;\">\n",
       "      <th></th>\n",
       "      <th>Name</th>\n",
       "      <th>Age</th>\n",
       "      <th>Gender</th>\n",
       "      <th>Experience</th>\n",
       "      <th>salary</th>\n",
       "      <th>password</th>\n",
       "    </tr>\n",
       "  </thead>\n",
       "  <tbody>\n",
       "    <tr>\n",
       "      <th>0</th>\n",
       "      <td>Mina</td>\n",
       "      <td>34</td>\n",
       "      <td>F</td>\n",
       "      <td>3</td>\n",
       "      <td>30000</td>\n",
       "      <td>0EJSBACgU#hy</td>\n",
       "    </tr>\n",
       "    <tr>\n",
       "      <th>1</th>\n",
       "      <td>Monisha</td>\n",
       "      <td>34</td>\n",
       "      <td>F</td>\n",
       "      <td>4</td>\n",
       "      <td>50000</td>\n",
       "      <td>=4YkIRc&gt;gvHd</td>\n",
       "    </tr>\n",
       "    <tr>\n",
       "      <th>2</th>\n",
       "      <td>manish</td>\n",
       "      <td>34</td>\n",
       "      <td>M</td>\n",
       "      <td>2</td>\n",
       "      <td>30000</td>\n",
       "      <td>7o?P=A#RfU46</td>\n",
       "    </tr>\n",
       "    <tr>\n",
       "      <th>3</th>\n",
       "      <td>Mohan</td>\n",
       "      <td>30</td>\n",
       "      <td>M</td>\n",
       "      <td>3</td>\n",
       "      <td>40000</td>\n",
       "      <td>Bv1/Xft*GqMN</td>\n",
       "    </tr>\n",
       "    <tr>\n",
       "      <th>4</th>\n",
       "      <td>Miraaz</td>\n",
       "      <td>29</td>\n",
       "      <td>M</td>\n",
       "      <td>3</td>\n",
       "      <td>40000</td>\n",
       "      <td>6S8cIHB%RUwy</td>\n",
       "    </tr>\n",
       "  </tbody>\n",
       "</table>\n",
       "</div>"
      ],
      "text/plain": [
       "      Name Age Gender Experience salary      password\n",
       "0     Mina  34      F          3  30000  0EJSBACgU#hy\n",
       "1  Monisha  34      F          4  50000  =4YkIRc>gvHd\n",
       "2   manish  34      M          2  30000  7o?P=A#RfU46\n",
       "3    Mohan  30      M          3  40000  Bv1/Xft*GqMN\n",
       "4   Miraaz  29      M          3  40000  6S8cIHB%RUwy"
      ]
     },
     "execution_count": 30,
     "metadata": {},
     "output_type": "execute_result"
    }
   ],
   "source": [
    "#task 3 : concat both dataframe\n",
    "emp_dataset = pd.concat([d2,d1],axis=1)\n",
    "emp_dataset"
   ]
  },
  {
   "cell_type": "markdown",
   "metadata": {},
   "source": []
  },
  {
   "cell_type": "code",
   "execution_count": 25,
   "metadata": {},
   "outputs": [],
   "source": [
    "#convert into csv\n",
    "emp_dataset.to_csv('emp_dataframe.csv')"
   ]
  },
  {
   "cell_type": "code",
   "execution_count": 29,
   "metadata": {},
   "outputs": [
    {
     "data": {
      "text/html": [
       "<div>\n",
       "<style scoped>\n",
       "    .dataframe tbody tr th:only-of-type {\n",
       "        vertical-align: middle;\n",
       "    }\n",
       "\n",
       "    .dataframe tbody tr th {\n",
       "        vertical-align: top;\n",
       "    }\n",
       "\n",
       "    .dataframe thead th {\n",
       "        text-align: right;\n",
       "    }\n",
       "</style>\n",
       "<table border=\"1\" class=\"dataframe\">\n",
       "  <thead>\n",
       "    <tr style=\"text-align: right;\">\n",
       "      <th></th>\n",
       "      <th>Unnamed: 0</th>\n",
       "      <th>Name</th>\n",
       "      <th>Age</th>\n",
       "      <th>Gender</th>\n",
       "      <th>Experience</th>\n",
       "      <th>salary</th>\n",
       "      <th>password</th>\n",
       "    </tr>\n",
       "  </thead>\n",
       "  <tbody>\n",
       "    <tr>\n",
       "      <th>0</th>\n",
       "      <td>0</td>\n",
       "      <td>Mina</td>\n",
       "      <td>34</td>\n",
       "      <td>F</td>\n",
       "      <td>3.0</td>\n",
       "      <td>30000</td>\n",
       "      <td>0EJSBACgU#hy</td>\n",
       "    </tr>\n",
       "    <tr>\n",
       "      <th>1</th>\n",
       "      <td>1</td>\n",
       "      <td>Monisha</td>\n",
       "      <td>34</td>\n",
       "      <td>F</td>\n",
       "      <td>4.0</td>\n",
       "      <td>50000</td>\n",
       "      <td>=4YkIRc&gt;gvHd</td>\n",
       "    </tr>\n",
       "    <tr>\n",
       "      <th>2</th>\n",
       "      <td>2</td>\n",
       "      <td>manish</td>\n",
       "      <td>34</td>\n",
       "      <td>M</td>\n",
       "      <td>2.0</td>\n",
       "      <td>30000</td>\n",
       "      <td>7o?P=A#RfU46</td>\n",
       "    </tr>\n",
       "    <tr>\n",
       "      <th>3</th>\n",
       "      <td>3</td>\n",
       "      <td>Mohan</td>\n",
       "      <td>30</td>\n",
       "      <td>M</td>\n",
       "      <td>3.0</td>\n",
       "      <td>40000</td>\n",
       "      <td>Bv1/Xft*GqMN</td>\n",
       "    </tr>\n",
       "    <tr>\n",
       "      <th>4</th>\n",
       "      <td>4</td>\n",
       "      <td>Miraaz</td>\n",
       "      <td>29</td>\n",
       "      <td>M</td>\n",
       "      <td>3.0</td>\n",
       "      <td>40000</td>\n",
       "      <td>6S8cIHB%RUwy</td>\n",
       "    </tr>\n",
       "  </tbody>\n",
       "</table>\n",
       "</div>"
      ],
      "text/plain": [
       "   Unnamed: 0     Name  Age Gender  Experience  salary      password\n",
       "0           0     Mina   34      F         3.0   30000  0EJSBACgU#hy\n",
       "1           1  Monisha   34      F         4.0   50000  =4YkIRc>gvHd\n",
       "2           2   manish   34      M         2.0   30000  7o?P=A#RfU46\n",
       "3           3    Mohan   30      M         3.0   40000  Bv1/Xft*GqMN\n",
       "4           4   Miraaz   29      M         3.0   40000  6S8cIHB%RUwy"
      ]
     },
     "execution_count": 29,
     "metadata": {},
     "output_type": "execute_result"
    }
   ],
   "source": [
    "#read_csv\n",
    "df = pd.read_csv('emp_dataframe.csv')\n",
    "df"
   ]
  },
  {
   "cell_type": "code",
   "execution_count": null,
   "metadata": {},
   "outputs": [],
   "source": []
  }
 ],
 "metadata": {
  "kernelspec": {
   "display_name": "Python 3",
   "language": "python",
   "name": "python3"
  },
  "language_info": {
   "codemirror_mode": {
    "name": "ipython",
    "version": 3
   },
   "file_extension": ".py",
   "mimetype": "text/x-python",
   "name": "python",
   "nbconvert_exporter": "python",
   "pygments_lexer": "ipython3",
   "version": "3.7.4"
  }
 },
 "nbformat": 4,
 "nbformat_minor": 2
}
